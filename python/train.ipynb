{
 "cells": [
  {
   "cell_type": "code",
   "id": "initial_id",
   "metadata": {
    "collapsed": true,
    "ExecuteTime": {
     "end_time": "2025-09-02T22:15:34.728929Z",
     "start_time": "2025-09-02T22:15:30.712866Z"
    }
   },
   "source": [
    "import torch\n",
    "import torch.nn as nn\n",
    "import torch.nn.functional as F\n",
    "import torch.optim as optim\n",
    "import torchvision\n",
    "import torchvision.transforms as transforms\n",
    "from tqdm.notebook import tqdm\n",
    "import time\n",
    "from PIL import Image"
   ],
   "outputs": [],
   "execution_count": 1
  },
  {
   "metadata": {
    "ExecuteTime": {
     "end_time": "2025-09-02T22:15:35.068327Z",
     "start_time": "2025-09-02T22:15:35.022325Z"
    }
   },
   "cell_type": "code",
   "source": [
    "#Device agnostic code\n",
    "device = torch.device(\"cuda\" if torch.cuda.is_available() else \"cpu\")\n",
    "device"
   ],
   "id": "ac30b7087f4bcd54",
   "outputs": [
    {
     "data": {
      "text/plain": [
       "device(type='cuda')"
      ]
     },
     "execution_count": 2,
     "metadata": {},
     "output_type": "execute_result"
    }
   ],
   "execution_count": 2
  },
  {
   "metadata": {
    "ExecuteTime": {
     "end_time": "2025-09-02T22:15:35.161903Z",
     "start_time": "2025-09-02T22:15:35.085578Z"
    }
   },
   "cell_type": "code",
   "source": [
    "transform = transforms.Compose([\n",
    "    transforms.ToTensor(),\n",
    "    transforms.Normalize((0.5,), (0.5,))\n",
    "])\n",
    "\n",
    "trainset = torchvision.datasets.MNIST(root=\"./data\", train=True, download=True, transform=transform)\n",
    "trainloader = torch.utils.data.DataLoader(trainset, batch_size=128, shuffle=True)\n",
    "\n",
    "testset = torchvision.datasets.MNIST(root=\"./data\", train=False, download=True, transform=transform)\n",
    "testloader = torch.utils.data.DataLoader(testset, batch_size=256, shuffle=False)"
   ],
   "id": "f263dd391e367aa",
   "outputs": [],
   "execution_count": 3
  },
  {
   "metadata": {
    "ExecuteTime": {
     "end_time": "2025-09-02T22:15:35.314167Z",
     "start_time": "2025-09-02T22:15:35.171417Z"
    }
   },
   "cell_type": "code",
   "source": [
    "# CNN model definition\n",
    "class Net(nn.Module):\n",
    "    def __init__(self):\n",
    "        super().__init__()\n",
    "        self.conv1 = nn.Conv2d(1, 32, 3, padding=1)\n",
    "        self.conv2 = nn.Conv2d(32, 64, 3, padding=1)\n",
    "        self.pool = nn.MaxPool2d(2, 2)\n",
    "        self.fc1 = nn.Linear(64*7*7, 128)\n",
    "        self.fc2 = nn.Linear(128, 10)\n",
    "\n",
    "    def forward(self, x):\n",
    "        x = self.pool(F.relu(self.conv1(x)))\n",
    "        x = self.pool(F.relu(self.conv2(x)))\n",
    "        x = x.view(-1, 64*7*7)\n",
    "        x = F.relu(self.fc1(x))\n",
    "        return self.fc2(x)\n",
    "\n",
    "#Instantiate the model\n",
    "model = Net().to(device)"
   ],
   "id": "bacfcf2f844b6843",
   "outputs": [],
   "execution_count": 4
  },
  {
   "metadata": {
    "ExecuteTime": {
     "end_time": "2025-09-02T22:15:35.326842Z",
     "start_time": "2025-09-02T22:15:35.323673Z"
    }
   },
   "cell_type": "code",
   "source": [
    "#Loss function and optimizer\n",
    "loss_fn = nn.CrossEntropyLoss()\n",
    "optimizer = optim.Adam(model.parameters(), lr=1e-3)"
   ],
   "id": "a26f0a9742697ac8",
   "outputs": [],
   "execution_count": 5
  },
  {
   "metadata": {
    "ExecuteTime": {
     "end_time": "2025-09-02T22:16:10.987116Z",
     "start_time": "2025-09-02T22:15:35.338360Z"
    }
   },
   "cell_type": "code",
   "source": [
    "# Training/Testing Loop\n",
    "for epoch in tqdm(range(3), desc=\"Epochs\"):\n",
    "    # Training loop\n",
    "    model.train()\n",
    "    running_loss = 0.0\n",
    "    correct_train, total_train = 0, 0\n",
    "    for imgs, labels in tqdm(trainloader, desc=f\"Epoch {epoch+1} Training\"):\n",
    "        imgs, labels = imgs.to(device), labels.to(device)\n",
    "        optimizer.zero_grad()\n",
    "        outputs = model(imgs)\n",
    "        loss = loss_fn(outputs, labels)\n",
    "        loss.backward()\n",
    "        optimizer.step()\n",
    "\n",
    "        running_loss += loss.item() * imgs.size(0)\n",
    "        preds = outputs.argmax(1)\n",
    "        correct_train += (preds == labels).sum().item()\n",
    "        total_train += labels.size(0)\n",
    "\n",
    "    epoch_train_loss = running_loss / total_train\n",
    "    epoch_train_accuracy = 100 * correct_train / total_train\n",
    "\n",
    "    # Evaluation loop\n",
    "    model.eval()\n",
    "    correct_test, total_test = 0, 0\n",
    "    running_test_loss = 0.0\n",
    "    with torch.no_grad():\n",
    "        for imgs, labels in tqdm(testloader, desc=f\"Epoch {epoch+1} Testing\"):\n",
    "            imgs, labels = imgs.to(device), labels.to(device)\n",
    "            outputs = model(imgs)\n",
    "            loss = loss_fn(outputs, labels)\n",
    "\n",
    "            running_test_loss += loss.item() * imgs.size(0)\n",
    "            preds = outputs.argmax(1)\n",
    "            correct_test += (preds == labels).sum().item()\n",
    "            total_test += labels.size(0)\n",
    "\n",
    "    epoch_test_loss = running_test_loss / total_test\n",
    "    epoch_test_accuracy = 100 * correct_test / total_test\n",
    "\n",
    "    print(f\"Epoch {epoch+1}:\")\n",
    "    print(f\"  Training Loss: {epoch_train_loss:.4f}, Training Accuracy: {epoch_train_accuracy:.2f}%\")\n",
    "    print(f\"  Test Loss: {epoch_test_loss:.4f}, Test Accuracy: {epoch_test_accuracy:.2f}%\")"
   ],
   "id": "e4e8647101d7fbfe",
   "outputs": [
    {
     "data": {
      "text/plain": [
       "Epochs:   0%|          | 0/3 [00:00<?, ?it/s]"
      ],
      "application/vnd.jupyter.widget-view+json": {
       "version_major": 2,
       "version_minor": 0,
       "model_id": "0589319ef2f2427c93e31d16d593cdb8"
      }
     },
     "metadata": {},
     "output_type": "display_data"
    },
    {
     "data": {
      "text/plain": [
       "Epoch 1 Training:   0%|          | 0/469 [00:00<?, ?it/s]"
      ],
      "application/vnd.jupyter.widget-view+json": {
       "version_major": 2,
       "version_minor": 0,
       "model_id": "ff062d93385b4400b4712027eb97dc9e"
      }
     },
     "metadata": {},
     "output_type": "display_data"
    },
    {
     "data": {
      "text/plain": [
       "Epoch 1 Testing:   0%|          | 0/40 [00:00<?, ?it/s]"
      ],
      "application/vnd.jupyter.widget-view+json": {
       "version_major": 2,
       "version_minor": 0,
       "model_id": "037d729202b94bc6b285282c50c19b5c"
      }
     },
     "metadata": {},
     "output_type": "display_data"
    },
    {
     "name": "stdout",
     "output_type": "stream",
     "text": [
      "Epoch 1:\n",
      "  Training Loss: 0.2163, Training Accuracy: 93.39%\n",
      "  Test Loss: 0.0630, Test Accuracy: 98.01%\n"
     ]
    },
    {
     "data": {
      "text/plain": [
       "Epoch 2 Training:   0%|          | 0/469 [00:00<?, ?it/s]"
      ],
      "application/vnd.jupyter.widget-view+json": {
       "version_major": 2,
       "version_minor": 0,
       "model_id": "363ed0e5c12448e583ec0c6cd60a97c4"
      }
     },
     "metadata": {},
     "output_type": "display_data"
    },
    {
     "data": {
      "text/plain": [
       "Epoch 2 Testing:   0%|          | 0/40 [00:00<?, ?it/s]"
      ],
      "application/vnd.jupyter.widget-view+json": {
       "version_major": 2,
       "version_minor": 0,
       "model_id": "ebf8ecd2755c409cba2db4d7835b9709"
      }
     },
     "metadata": {},
     "output_type": "display_data"
    },
    {
     "name": "stdout",
     "output_type": "stream",
     "text": [
      "Epoch 2:\n",
      "  Training Loss: 0.0531, Training Accuracy: 98.36%\n",
      "  Test Loss: 0.0489, Test Accuracy: 98.30%\n"
     ]
    },
    {
     "data": {
      "text/plain": [
       "Epoch 3 Training:   0%|          | 0/469 [00:00<?, ?it/s]"
      ],
      "application/vnd.jupyter.widget-view+json": {
       "version_major": 2,
       "version_minor": 0,
       "model_id": "d539b24155da4ee7a4e60f41d0b32383"
      }
     },
     "metadata": {},
     "output_type": "display_data"
    },
    {
     "data": {
      "text/plain": [
       "Epoch 3 Testing:   0%|          | 0/40 [00:00<?, ?it/s]"
      ],
      "application/vnd.jupyter.widget-view+json": {
       "version_major": 2,
       "version_minor": 0,
       "model_id": "b8ef58e3dfc8408e89acc1b7939c8824"
      }
     },
     "metadata": {},
     "output_type": "display_data"
    },
    {
     "name": "stdout",
     "output_type": "stream",
     "text": [
      "Epoch 3:\n",
      "  Training Loss: 0.0363, Training Accuracy: 98.85%\n",
      "  Test Loss: 0.0397, Test Accuracy: 98.64%\n"
     ]
    }
   ],
   "execution_count": 6
  },
  {
   "metadata": {
    "ExecuteTime": {
     "end_time": "2025-09-02T22:16:11.157555Z",
     "start_time": "2025-09-02T22:16:11.144616Z"
    }
   },
   "cell_type": "code",
   "source": [
    "# Save\n",
    "torch.save(model.state_dict(), \"mnist_cnn.pth\")\n",
    "print(\"Saved PyTorch weights → mnist_cnn.pth\")"
   ],
   "id": "80a0ef3748202d0",
   "outputs": [
    {
     "name": "stdout",
     "output_type": "stream",
     "text": [
      "Saved PyTorch weights → mnist_cnn.pth\n"
     ]
    }
   ],
   "execution_count": 7
  },
  {
   "metadata": {
    "ExecuteTime": {
     "end_time": "2025-09-02T22:16:11.326394Z",
     "start_time": "2025-09-02T22:16:11.198932Z"
    }
   },
   "cell_type": "code",
   "source": [
    "# Export torchscript\n",
    "example = torch.randn(1,1,28,28).to(device)\n",
    "traced = torch.jit.trace(model.cpu(), torch.randn(1,1,28,28))\n",
    "traced.save(\"../cpp/mnist_cnn.pt\")\n",
    "print(\"Saved TorchScript → ../cpp/mnist_cnn.pt\")"
   ],
   "id": "fcade890019a5e65",
   "outputs": [
    {
     "name": "stdout",
     "output_type": "stream",
     "text": [
      "Saved TorchScript → ../cpp/mnist_cnn.pt\n"
     ]
    }
   ],
   "execution_count": 8
  },
  {
   "metadata": {
    "ExecuteTime": {
     "end_time": "2025-09-02T22:16:11.585937Z",
     "start_time": "2025-09-02T22:16:11.381575Z"
    }
   },
   "cell_type": "code",
   "source": [
    "# Export ONNX\n",
    "dummy = torch.randn(1,1,28,28)\n",
    "torch.onnx.export(model.cpu(), dummy, \"../web/mnist_cnn.onnx\",\n",
    "                  input_names=[\"input\"], output_names=[\"output\"],\n",
    "                  opset_version=11)\n",
    "print(\"Saved ONNX → ../web/mnist_cnn.onnx\")"
   ],
   "id": "646bd548edea4ab2",
   "outputs": [
    {
     "name": "stdout",
     "output_type": "stream",
     "text": [
      "Saved ONNX → ../web/mnist_cnn.onnx\n"
     ]
    }
   ],
   "execution_count": 9
  },
  {
   "metadata": {
    "ExecuteTime": {
     "end_time": "2025-09-02T22:16:11.731463Z",
     "start_time": "2025-09-02T22:16:11.652463Z"
    }
   },
   "cell_type": "code",
   "source": [
    "# Inference Calculation on a random tensor\n",
    "x = torch.randn(1,1,28,28)\n",
    "#warmup\n",
    "for _ in range(10): _ = model(x)\n",
    "\n",
    "iters = 100\n",
    "t0 = time.perf_counter()\n",
    "for _ in range(iters):\n",
    "    _ = model(x)\n",
    "t1 = time.perf_counter()\n",
    "print(f\"Python inference avg: {(t1-t0)*1000/iters:.2f} ms\")\n"
   ],
   "id": "f8bda76e271caf1c",
   "outputs": [
    {
     "name": "stdout",
     "output_type": "stream",
     "text": [
      "Python inference avg: 0.61 ms\n"
     ]
    }
   ],
   "execution_count": 10
  },
  {
   "metadata": {
    "ExecuteTime": {
     "end_time": "2025-09-02T22:16:11.816065Z",
     "start_time": "2025-09-02T22:16:11.792736Z"
    }
   },
   "cell_type": "code",
   "source": [
    "#Extracting a digit for benchmarking\n",
    "# Load MNIST test set\n",
    "testset = torchvision.datasets.MNIST(root=\"./data\", train=False, download=True, transform=transforms.ToTensor())\n",
    "img, label = testset[0]  # first test digit\n",
    "img = transforms.ToPILImage()(img)\n",
    "img.save(\"digit.png\")\n",
    "print(\"Saved digit.png (label =\", label, \")\")"
   ],
   "id": "5c86a6effc087c5d",
   "outputs": [
    {
     "name": "stdout",
     "output_type": "stream",
     "text": [
      "Saved digit.png (label = 7 )\n"
     ]
    }
   ],
   "execution_count": 11
  }
 ],
 "metadata": {
  "kernelspec": {
   "display_name": "Python 3",
   "language": "python",
   "name": "python3"
  },
  "language_info": {
   "codemirror_mode": {
    "name": "ipython",
    "version": 2
   },
   "file_extension": ".py",
   "mimetype": "text/x-python",
   "name": "python",
   "nbconvert_exporter": "python",
   "pygments_lexer": "ipython2",
   "version": "2.7.6"
  }
 },
 "nbformat": 4,
 "nbformat_minor": 5
}
